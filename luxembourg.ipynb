{
 "cells": [
  {
   "cell_type": "code",
   "execution_count": 1,
   "metadata": {
    "collapsed": false
   },
   "outputs": [],
   "source": [
    "# Setup\n",
    "%matplotlib inline\n",
    "import numpy as np\n",
    "import pandas as pd\n",
    "import seaborn as sns\n",
    "import matplotlib.pyplot as plt"
   ]
  },
  {
   "cell_type": "markdown",
   "metadata": {},
   "source": [
    "# Booming Populations - Luxembourg\n",
    "\n",
    "## Introduction\n",
    "\n",
    "Luxembourg officialy \"The Grand Duchy of Luxembourg\" was founded in 963 AD and gained independance in 1839. It was one of the six founding countries of the EEC (or the EU) and a member of the NATO pact. The country is located in western Europe between Frace and Germany. It is landlocked and spaning a total distance of 2,586 sq km. The terrain is mostly rolling uplands with broad shallow valleys and acces to the Moselle flood plains. The population of Luxembourg consits of 63.1% Luxembourger, 13.3% Portuguese, 4.5% French, 4.3% Italian, 2.3% German,and 7.3% other EU.\n",
    "\n",
    "## Population Pyramid\n",
    "\n",
    "![](http://i.imgur.com/ze05Tqg.png)\n",
    "\n",
    "## Table of data"
   ]
  },
  {
   "cell_type": "code",
   "execution_count": 2,
   "metadata": {
    "collapsed": false
   },
   "outputs": [
    {
     "data": {
      "text/html": [
       "<div style=\"max-height:1000px;max-width:1500px;overflow:auto;\">\n",
       "<table border=\"1\" class=\"dataframe\">\n",
       "  <thead>\n",
       "    <tr style=\"text-align: right;\">\n",
       "      <th></th>\n",
       "      <th>population</th>\n",
       "      <th>absolute change</th>\n",
       "      <th>percent change</th>\n",
       "    </tr>\n",
       "  </thead>\n",
       "  <tbody>\n",
       "    <tr>\n",
       "      <th>1950</th>\n",
       "      <td> 296000</td>\n",
       "      <td>   NaN</td>\n",
       "      <td>       NaN</td>\n",
       "    </tr>\n",
       "    <tr>\n",
       "      <th>1955</th>\n",
       "      <td> 305000</td>\n",
       "      <td>  9000</td>\n",
       "      <td>  3.040541</td>\n",
       "    </tr>\n",
       "    <tr>\n",
       "      <th>1960</th>\n",
       "      <td> 314000</td>\n",
       "      <td>  9000</td>\n",
       "      <td>  2.950820</td>\n",
       "    </tr>\n",
       "    <tr>\n",
       "      <th>1965</th>\n",
       "      <td> 330000</td>\n",
       "      <td> 16000</td>\n",
       "      <td>  5.095541</td>\n",
       "    </tr>\n",
       "    <tr>\n",
       "      <th>1970</th>\n",
       "      <td> 339000</td>\n",
       "      <td>  9000</td>\n",
       "      <td>  2.727273</td>\n",
       "    </tr>\n",
       "    <tr>\n",
       "      <th>1975</th>\n",
       "      <td> 353000</td>\n",
       "      <td> 14000</td>\n",
       "      <td>  4.129794</td>\n",
       "    </tr>\n",
       "    <tr>\n",
       "      <th>1980</th>\n",
       "      <td> 364000</td>\n",
       "      <td> 11000</td>\n",
       "      <td>  3.116147</td>\n",
       "    </tr>\n",
       "    <tr>\n",
       "      <th>1985</th>\n",
       "      <td> 366000</td>\n",
       "      <td>  2000</td>\n",
       "      <td>  0.549451</td>\n",
       "    </tr>\n",
       "    <tr>\n",
       "      <th>1990</th>\n",
       "      <td> 381000</td>\n",
       "      <td> 15000</td>\n",
       "      <td>  4.098361</td>\n",
       "    </tr>\n",
       "    <tr>\n",
       "      <th>1995</th>\n",
       "      <td> 408000</td>\n",
       "      <td> 27000</td>\n",
       "      <td>  7.086614</td>\n",
       "    </tr>\n",
       "    <tr>\n",
       "      <th>2000</th>\n",
       "      <td> 436000</td>\n",
       "      <td> 28000</td>\n",
       "      <td>  6.862745</td>\n",
       "    </tr>\n",
       "    <tr>\n",
       "      <th>2005</th>\n",
       "      <td> 457000</td>\n",
       "      <td> 21000</td>\n",
       "      <td>  4.816514</td>\n",
       "    </tr>\n",
       "    <tr>\n",
       "      <th>2010</th>\n",
       "      <td> 507000</td>\n",
       "      <td> 50000</td>\n",
       "      <td> 10.940919</td>\n",
       "    </tr>\n",
       "    <tr>\n",
       "      <th>2015</th>\n",
       "      <td> 543000</td>\n",
       "      <td> 36000</td>\n",
       "      <td>  7.100592</td>\n",
       "    </tr>\n",
       "  </tbody>\n",
       "</table>\n",
       "</div>"
      ],
      "text/plain": [
       "      population  absolute change  percent change\n",
       "1950      296000              NaN             NaN\n",
       "1955      305000             9000        3.040541\n",
       "1960      314000             9000        2.950820\n",
       "1965      330000            16000        5.095541\n",
       "1970      339000             9000        2.727273\n",
       "1975      353000            14000        4.129794\n",
       "1980      364000            11000        3.116147\n",
       "1985      366000             2000        0.549451\n",
       "1990      381000            15000        4.098361\n",
       "1995      408000            27000        7.086614\n",
       "2000      436000            28000        6.862745\n",
       "2005      457000            21000        4.816514\n",
       "2010      507000            50000       10.940919\n",
       "2015      543000            36000        7.100592"
      ]
     },
     "execution_count": 2,
     "metadata": {},
     "output_type": "execute_result"
    }
   ],
   "source": [
    "years = np.arange(1950, 2020, 5)\n",
    "pop = [296000, 305000, 314000, 330000, 339000, 353000, 364000, 366000, 381000, 408000, 436000, 457000, 507000, 543000]\n",
    "diff = np.diff(pop)\n",
    "percent_change = np.diff(pop) / pop[:-1] * 100.\n",
    "\n",
    "data = {'population': pd.Series(pop, index=years),\n",
    "        'absolute change': pd.Series(diff, index=np.arange(1955, 2020, 5)),\n",
    "        'percent change': pd.Series(percent_change, index=np.arange(1955, 2020, 5))}\n",
    "\n",
    "df = pd.DataFrame(data)\n",
    "df[['population', 'absolute change', 'percent change']]"
   ]
  },
  {
   "cell_type": "markdown",
   "metadata": {},
   "source": [
    "## Graph Data"
   ]
  },
  {
   "cell_type": "code",
   "execution_count": 3,
   "metadata": {
    "collapsed": false,
    "scrolled": true
   },
   "outputs": [
    {
     "data": {
      "image/png": "[encoded data removed]",
      "text/plain": [
       "<matplotlib.figure.Figure at 0x7fa98e2cfe48>"
      ]
     },
     "metadata": {},
     "output_type": "display_data"
    }
   ],
   "source": [
    "x = np.arange(-10, 105, 5)\n",
    "yrs = np.arange(1940, 2055, 5)\n",
    "\n",
    "plt.plot(years, pop, 'h-', label='Population')\n",
    "plt.plot(yrs, (np.average(np.diff(pop[:-1])) / 5) * x + pop[0], label='Linear Equation')\n",
    "plt.plot(yrs, pop[0] * (1 + (np.average(percent_change[:-1]) / 5) / 100) ** x, label='Exponential Equation')\n",
    "\n",
    "plt.title('Population of Luxembourg')\n",
    "plt.ylabel('Population')\n",
    "plt.xlabel('Year')\n",
    "plt.xticks([1940, 1950, 1960, 1970, 1980, 1990, 2000, 2010, 2020, 2030, 2040, 2050])\n",
    "\n",
    "plt.legend(loc=2)\n",
    "plt.axis('tight')\n",
    "\n",
    "plt.show()"
   ]
  },
  {
   "cell_type": "markdown",
   "metadata": {},
   "source": [
    "## Analyze Trends\n",
    "\n",
    "There are no big trends that affect human population. Most people living in country are above the poverty line and employed making for no absured death rates. Population growth is about 11.75 births per 1000 people and 8.53 deaths per 1000 people, 7.97 migrations per 1000 people, 1.77 children per women. Infant mortaily rate is 4.28 deaths per 1000 live births. \n",
    "\n",
    "## Population Functions\n",
    "\n",
    "- My population semi aligns with the linear equation\n",
    "- My population also semi aligns with the exponential equation\n",
    "\n",
    "It is like this because\n",
    "\n",
    "- Reason 1: because luxembourg does not have very much happening.\n",
    "- Reason 2: because there have not been any big events in luxembourg history\n",
    "- Reason 3: Since luxembourg is a relatively small country the population has not had any major changes\n",
    "- Reason 4: There hasn't been any life expectancy improvements recently.\n",
    "\n",
    "The reasons which cause it to be like this are almost identical to the reason of the linear function\n",
    "\n",
    "In summary, Luxembourg does not have much happening in it and there have not really been any big natural events in its history plus the country is quite small and there haven't been any life expectancy improvements recently.\n",
    "\n",
    "## Which function fits?\n",
    "\n",
    "I think that the exponential population function fits the best because you can't really have a linear population, there will always be an exponential factor and that it nearly predicted the 2015 population so far.\n",
    "\n",
    "## 2050 Prediction\n",
    "\n",
    "According to the exponential function the prediction for the population in 2050 is expected to be 750,000 strong.\n",
    "\n",
    "## Summary of my thoughts\n",
    "\n",
    "I genuinely liked this project because it allowed me to choose which country I am studying and it allowed me to actually learn about something that I don't have any direct control over. Plus it let me learn how to make graphs and data tables using python which I have been meaning to do for some time."
   ]
  }
 ],
 "metadata": {
  "kernelspec": {
   "display_name": "Python 3",
   "language": "python",
   "name": "python3"
  },
  "language_info": {
   "codemirror_mode": {
    "name": "ipython",
    "version": 3
   },
   "file_extension": ".py",
   "mimetype": "text/x-python",
   "name": "python",
   "nbconvert_exporter": "python",
   "pygments_lexer": "ipython3",
   "version": "3.4.2"
  },
  "name": "Luxembourg.ipynb"
 },
 "nbformat": 4,
 "nbformat_minor": 0
}
